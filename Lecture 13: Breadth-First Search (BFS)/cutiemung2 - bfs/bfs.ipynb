{
 "cells": [
  {
   "cell_type": "code",
   "execution_count": 1,
   "metadata": {
    "collapsed": true
   },
   "outputs": [],
   "source": [
    "def bfs(s, adj):\n",
    "    level = {s:0}\n",
    "    parent = {s:None}\n",
    "    i = 1\n",
    "    frontier = [s]\n",
    "    while frontier:\n",
    "        next_level = []\n",
    "        for u in frontier:\n",
    "            for v in adj[u]:\n",
    "                if v not in level:\n",
    "                    level[v] = i\n",
    "                    parent[v] = u\n",
    "                    next_level.append(v)\n",
    "        frontier = next_level\n",
    "        i += 1\n",
    "    return parent"
   ]
  },
  {
   "cell_type": "code",
   "execution_count": 50,
   "metadata": {},
   "outputs": [
    {
     "name": "stdout",
     "output_type": "stream",
     "text": [
      "0  \t:  0  0  0  0  0  0  0  1  0  0  0  0  0  0  1  0  0  0  0  0\n",
      "1  \t:  0  0  0  0  1  0  1  1  0  0  0  1  0  0  0  0  0  0  1  1\n",
      "2  \t:  0  0  0  0  0  0  0  1  0  0  0  0  0  0  0  0  0  0  0  1\n",
      "3  \t:  0  0  0  0  0  0  0  0  0  0  0  0  1  0  0  0  0  0  0  0\n",
      "4  \t:  0  1  0  0  0  1  1  0  0  0  0  0  0  0  0  0  1  0  0  0\n",
      "5  \t:  0  0  0  0  1  0  0  0  1  0  0  1  0  0  0  0  0  0  0  1\n",
      "6  \t:  0  1  0  0  1  0  0  0  0  0  0  0  0  0  0  1  0  1  0  1\n",
      "7  \t:  1  1  1  0  0  0  0  0  0  0  0  0  0  0  0  0  0  0  1  0\n",
      "8  \t:  0  0  0  0  0  1  0  0  0  0  1  0  0  0  0  0  0  0  1  0\n",
      "9  \t:  0  0  0  0  0  0  0  0  0  0  0  0  0  0  0  0  0  1  0  0\n",
      "10  \t:  0  0  0  0  0  0  0  0  1  0  0  0  0  0  0  0  0  0  0  0\n",
      "11  \t:  0  1  0  0  0  1  0  0  0  0  0  0  0  0  0  1  0  0  0  0\n",
      "12  \t:  0  0  0  1  0  0  0  0  0  0  0  0  0  0  0  0  0  0  0  0\n",
      "13  \t:  0  0  0  0  0  0  0  0  0  0  0  0  0  0  0  0  0  0  0  1\n",
      "14  \t:  1  0  0  0  0  0  0  0  0  0  0  0  0  0  0  0  0  0  0  0\n",
      "15  \t:  0  0  0  0  0  0  1  0  0  0  0  1  0  0  0  0  0  0  0  0\n",
      "16  \t:  0  0  0  0  1  0  0  0  0  0  0  0  0  0  0  0  0  0  1  0\n",
      "17  \t:  0  0  0  0  0  0  1  0  0  1  0  0  0  0  0  0  0  0  0  0\n",
      "18  \t:  0  1  0  0  0  0  0  1  1  0  0  0  0  0  0  0  1  0  0  0\n",
      "19  \t:  0  1  1  0  0  1  1  0  0  0  0  0  0  1  0  0  0  0  0  0\n",
      "0 -> 7 -> 18 -> 8 -> 10\n"
     ]
    }
   ],
   "source": [
    "import numpy as np\n",
    "import random\n",
    "def shortest_path(a,b,parent):\n",
    "    path = [b]\n",
    "    now = b\n",
    "    while now!=a:\n",
    "        if path[-1] in parent.keys():\n",
    "            now = parent[path[-1]]\n",
    "        else:\n",
    "            return [None]\n",
    "        path.append(now)\n",
    "    return path\n",
    "        \n",
    "\n",
    "num_of_v = 20\n",
    "testcase1 = [[0 if col <= row else random.randint(0,5)==1 for col in range(num_of_v)] for row in range(num_of_v)]\n",
    "tc = np.array(testcase1)\n",
    "tc = tc + tc.T\n",
    "adj = [[i for i,element in enumerate(row) if element==1] for row in tc]\n",
    "for i in range(len(tc)):\n",
    "    print(i,'\\t:', *tc[i],sep='  ')\n",
    "parent=bfs(0,adj)\n",
    "\n",
    "dest = 10\n",
    "path = shortest_path(0,dest,parent)\n",
    "print(*reversed(path),sep=' -> ')"
   ]
  },
  {
   "cell_type": "code",
   "execution_count": null,
   "metadata": {
    "collapsed": true
   },
   "outputs": [],
   "source": []
  }
 ],
 "metadata": {
  "kernelspec": {
   "display_name": "Python 3",
   "language": "python",
   "name": "python3"
  },
  "language_info": {
   "codemirror_mode": {
    "name": "ipython",
    "version": 3
   },
   "file_extension": ".py",
   "mimetype": "text/x-python",
   "name": "python",
   "nbconvert_exporter": "python",
   "pygments_lexer": "ipython3",
   "version": "3.6.3"
  }
 },
 "nbformat": 4,
 "nbformat_minor": 2
}
