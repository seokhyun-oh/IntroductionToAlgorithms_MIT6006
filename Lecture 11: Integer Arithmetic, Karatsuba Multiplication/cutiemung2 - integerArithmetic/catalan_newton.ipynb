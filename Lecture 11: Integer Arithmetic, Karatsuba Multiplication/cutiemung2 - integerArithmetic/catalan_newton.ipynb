{
 "cells": [
  {
   "cell_type": "code",
   "execution_count": 1,
   "metadata": {
    "collapsed": true
   },
   "outputs": [],
   "source": [
    "def catalan(n):\n",
    "    if n<0 :\n",
    "        return 0\n",
    "    if n==0 or n==1:\n",
    "        return 1\n",
    "    \n",
    "    li = [1, 1]\n",
    "    for step in range(2,n+1):\n",
    "        hello = sum([li[idx]*li[step-1-idx] for idx in range(len(li))])\n",
    "        li.append(hello)\n",
    "    return li[-1]"
   ]
  },
  {
   "cell_type": "code",
   "execution_count": 6,
   "metadata": {},
   "outputs": [
    {
     "name": "stdout",
     "output_type": "stream",
     "text": [
      "0 : 1\n",
      "1 : 1\n",
      "2 : 2\n",
      "3 : 5\n",
      "4 : 14\n",
      "5 : 42\n",
      "6 : 132\n",
      "7 : 429\n",
      "8 : 1430\n",
      "9 : 4862\n"
     ]
    }
   ],
   "source": [
    "\n",
    "for n in range(10):\n",
    "    cn = catalan(n)\n",
    "    print(n,':',cn)"
   ]
  },
  {
   "cell_type": "code",
   "execution_count": 3,
   "metadata": {
    "collapsed": true
   },
   "outputs": [],
   "source": [
    "import random\n",
    "def slope(f, x):\n",
    "    eps = 1e-6\n",
    "    return ( f(x+eps)-f(x-eps) ) / ( 2*eps )\n",
    "    \n",
    "\n",
    "# Newton's method\n",
    "# preconditoin : 연속, 미분가능\n",
    "def find_a_root(func, init_value=None, estimated_range=[-1e+6,1e+6], get_history=False):\n",
    "    if init_value is None:\n",
    "        x = random.randint(estimated_range[0], estimated_range[1])\n",
    "    else:\n",
    "        x = init_value\n",
    "    \n",
    "    eps = 1e-5\n",
    "    hist = []\n",
    "    for _ in range(1000):\n",
    "        hist.append(x)\n",
    "        if abs(func(x)-0)<eps:\n",
    "            if get_history is True:\n",
    "                return hist\n",
    "            else:\n",
    "                return (True,x)\n",
    "        d = slope(func,x)\n",
    "        if d==0:\n",
    "            if get_history is True:\n",
    "                return hist\n",
    "            else:\n",
    "                return (False,x)\n",
    "        x = x - func(x)/d\n",
    "        \n",
    "    "
   ]
  },
  {
   "cell_type": "code",
   "execution_count": 4,
   "metadata": {
    "collapsed": true
   },
   "outputs": [],
   "source": [
    "import numpy as np\n",
    "import matplotlib.pyplot as pt\n",
    "\n",
    "def f(x):\n",
    "    return x*(x-2)"
   ]
  },
  {
   "cell_type": "code",
   "execution_count": 7,
   "metadata": {},
   "outputs": [
    {
     "data": {
      "image/png": "[encoded data removed]",
      "text/plain": [
       "<matplotlib.figure.Figure at 0x28991a5a400>"
      ]
     },
     "metadata": {},
     "output_type": "display_data"
    },
    {
     "data": {
      "image/png": "[encoded data removed]",
      "text/plain": [
       "<matplotlib.figure.Figure at 0x28994555400>"
      ]
     },
     "metadata": {},
     "output_type": "display_data"
    },
    {
     "name": "stdout",
     "output_type": "stream",
     "text": [
      "iteration 0 \t: 394\n",
      "iteration 1 \t: 197.50126966532653\n",
      "iteration 2 \t: 99.2531789499671\n",
      "iteration 3 \t: 50.1316782681618\n",
      "iteration 4 \t: 25.576015845843617\n",
      "iteration 5 \t: 13.308352976341435\n",
      "iteration 6 \t: 7.194799301631969\n",
      "iteration 7 \t: 4.178112516457331\n",
      "iteration 8 \t: 2.7463823435731785\n",
      "iteration 9 \t: 2.1594973188546325\n",
      "iteration 10 \t: 2.0109700101747676\n",
      "iteration 11 \t: 2.0000595176538902\n",
      "iteration 12 \t: 2.0000000017710784\n"
     ]
    }
   ],
   "source": [
    "x_start, x_end = -1000, 1000\n",
    "\n",
    "h = np.arange(x_start,x_end,0.1)\n",
    "x = np.arange(x_start,x_end,0.1)\n",
    "y = f(x)\n",
    "\n",
    "init_value = random.randint(x_start, x_end)\n",
    "hist = find_a_root(f, init_value=init_value, get_history=True)\n",
    "root = hist[-1]\n",
    "\n",
    "pt.title('Zoom out')\n",
    "pt.plot(x,y,'k')\n",
    "pt.plot(h,np.zeros(h.size),'y')\n",
    "pt.plot(hist,np.zeros(len(hist)),'r.')\n",
    "pt.show()\n",
    "\n",
    "\n",
    "pt.figure()\n",
    "pt.title('zoom in')\n",
    "pt.plot(x,y,'k')\n",
    "pt.plot(h,np.zeros(h.size),'y',)\n",
    "pt.plot(hist,np.zeros(len(hist)),'r.')\n",
    "pt.xlim([root-3,root+3])\n",
    "pt.ylim([-5,5])\n",
    "pt.show()\n",
    "\n",
    "for idx in range(len(hist)):\n",
    "    print('iteration',idx,'\\t:',hist[idx])"
   ]
  },
  {
   "cell_type": "code",
   "execution_count": null,
   "metadata": {
    "collapsed": true
   },
   "outputs": [],
   "source": []
  }
 ],
 "metadata": {
  "kernelspec": {
   "display_name": "Python 3",
   "language": "python",
   "name": "python3"
  },
  "language_info": {
   "codemirror_mode": {
    "name": "ipython",
    "version": 3
   },
   "file_extension": ".py",
   "mimetype": "text/x-python",
   "name": "python",
   "nbconvert_exporter": "python",
   "pygments_lexer": "ipython3",
   "version": "3.6.3"
  }
 },
 "nbformat": 4,
 "nbformat_minor": 2
}
