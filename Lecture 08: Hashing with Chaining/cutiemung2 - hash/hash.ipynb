{
 "cells": [
  {
   "cell_type": "code",
   "execution_count": 64,
   "metadata": {},
   "outputs": [],
   "source": [
    "#import platform\n",
    "import random\n",
    "\n",
    "def get_prime_greater_than(num):\n",
    "    li = []\n",
    "    li.append(2)\n",
    "    n = 3\n",
    "    while True:\n",
    "        check = 1\n",
    "        for p in li:\n",
    "            check = check&int(n%p!=0)\n",
    "            if check==0:\n",
    "                break\n",
    "        if check==1:\n",
    "            if n>num:\n",
    "                return n\n",
    "            li.append(n)\n",
    "        n+=2\n",
    "\n",
    "def log2(n):\n",
    "    if n<=0:\n",
    "        raise Exception\n",
    "    count = 0\n",
    "    while n > 1:\n",
    "        n=n>>1\n",
    "        count+=1\n",
    "    return count\n",
    "\n",
    "class Node:\n",
    "    def __init__(self, key, value):\n",
    "        self.key = key\n",
    "        self.value = value\n",
    "        self.next_node = None\n",
    "        \n",
    "    def insert(self, key, value):\n",
    "        if self.next_node==None:\n",
    "            self.next_node = Node(key, value)\n",
    "            return self.next_node\n",
    "        else:\n",
    "            return self.next_node.insert(key, value)\n",
    "        \n",
    "    def get_line(self):\n",
    "        if self.next_node is None:\n",
    "            return [(self.key, self.value)]\n",
    "        else:\n",
    "            return [(self.key, self.value)]+self.next_node.get_line()\n",
    "        \n",
    "    \n",
    "class Hash:\n",
    "    DIV = 1\n",
    "    MUL = 2\n",
    "    UNI = 3\n",
    "    def __init__(self, insert_type=UNI, universal_size=None):\n",
    "        self.max_size = 7\n",
    "        if(insert_type == self.DIV):\n",
    "            self.h=self.__div\n",
    "        elif(insert_type == self.MUL):\n",
    "            self.max_size = 8\n",
    "            self.h=self.__mul\n",
    "        else:\n",
    "            self.h=self.__uni\n",
    "        self.table = [None for _ in range(self.max_size)]\n",
    "        \n",
    "        if universal_size is not None:\n",
    "            self.universal_size = universal_size\n",
    "            self.prime = get_prime_greater_than(self.universal_size*2)\n",
    "            self.a = random.randint(0,self.prime-1)\n",
    "            self.b = random.randint(0,self.prime-1)\n",
    "        \n",
    "    def histogram(self):\n",
    "        return [element.get_line() if element is not None else [None] for element in self.table]\n",
    "                \n",
    "        \n",
    "    def insert(self,key,value):        \n",
    "        index = self.h(key)\n",
    "        \n",
    "        if self.table[index]==None:\n",
    "            self.table[index] = Node(key, value)\n",
    "            return self.table[index]\n",
    "        else:\n",
    "            return self.table[index].insert(key, value)\n",
    "        \n",
    "    def find_w_key(self,key):\n",
    "        index = self.h(key)\n",
    "        itr = self.table[index]\n",
    "        while itr is not None:\n",
    "            if itr.key == key:\n",
    "                return itr.value\n",
    "            else:\n",
    "                itr = itr.next_node\n",
    "        \n",
    "    def __prehash(self,key):\n",
    "        if type(key)==str:\n",
    "            ans = 0\n",
    "            base = 257\n",
    "            for c in key:\n",
    "                ans = base*ans + ord(c)\n",
    "            return ans\n",
    "            \n",
    "        else:\n",
    "            return abs(key.__hash__())\n",
    "    \n",
    "    \n",
    "    def __div(self, key):\n",
    "        return self.__prehash(key)%self.max_size\n",
    "    \n",
    "    def __mul(self, key):\n",
    "        w = 32\n",
    "        #if platform.architecture()[0]=='64bit':\n",
    "        #    w = 64\n",
    "        two_to_the_w = 2**w\n",
    "        a = int(two_to_the_w/1.5)\n",
    "        if a%2==0:\n",
    "            a+=1\n",
    "        return ((a*self.__prehash(key))%two_to_the_w)>>(w-log2(self.max_size))\n",
    "    \n",
    "    def __uni(self,key) :\n",
    "        return ((self.a*self.__prehash(key)+self.b)%self.prime)%self.max_size\n",
    "        \n",
    "\n"
   ]
  },
  {
   "cell_type": "code",
   "execution_count": 65,
   "metadata": {
    "collapsed": true
   },
   "outputs": [],
   "source": [
    "random_number = [random.randint(10, 100) for _ in range(90)]\n",
    "word_list = ['zero','one','two','three','four','five','six','seven','eight','nine','ten','eleven','twelve','thirteen','fourteen',' fifteen',\n",
    "             'sixteen','seventeen','eighteen','nineteen','twenty','twenty-one','twenty-two','twenty-three','a','b','c','d','e','f','g','h','j'\\\n",
    "            '1','2','3','4','5','6','hello','world','nice','to','meet','you!!']"
   ]
  },
  {
   "cell_type": "code",
   "execution_count": 66,
   "metadata": {
    "scrolled": false
   },
   "outputs": [
    {
     "name": "stdout",
     "output_type": "stream",
     "text": [
      ">> len :  6\n",
      "[('zero', 0), ('seven', 7), ('e', 28), ('g', 30), ('3', 34), ('meet', 42)]\n",
      ">> len :  8\n",
      "[('fourteen', 14), ('eighteen', 18), ('f', 29), ('h', 31), ('4', 35), ('6', 37), ('hello', 38), ('you!!', 43)]\n",
      ">> len :  7\n",
      "[('six', 6), ('eight', 8), ('eleven', 11), ('sixteen', 16), ('twenty-three', 23), ('5', 36), ('nice', 40)]\n",
      ">> len :  4\n",
      "[('two', 2), ('three', 3), ('thirteen', 13), ('to', 41)]\n",
      ">> len :  8\n",
      "[('one', 1), ('four', 4), ('five', 5), ('ten', 10), ('twelve', 12), ('seventeen', 17), ('b', 25), ('j1', 32)]\n",
      ">> len :  8\n",
      "[('nine', 9), (' fifteen', 15), ('nineteen', 19), ('twenty', 20), ('twenty-one', 21), ('a', 24), ('c', 26), ('world', 39)]\n",
      ">> len :  3\n",
      "[('twenty-two', 22), ('d', 27), ('2', 33)]\n",
      "===========\n",
      "\n",
      ">> len :  5\n",
      "[('three', 3), ('eleven', 11), ('eighteen', 18), ('b', 25), ('hello', 38)]\n",
      ">> len :  5\n",
      "[('two', 2), ('five', 5), ('ten', 10), ('c', 26), ('2', 33)]\n",
      ">> len :  6\n",
      "[('nine', 9), ('thirteen', 13), ('twenty', 20), ('twenty-two', 22), ('d', 27), ('3', 34)]\n",
      ">> len :  6\n",
      "[('one', 1), ('fourteen', 14), ('seventeen', 17), ('e', 28), ('4', 35), ('nice', 40)]\n",
      ">> len :  8\n",
      "[('zero', 0), ('eight', 8), (' fifteen', 15), ('nineteen', 19), ('twenty-one', 21), ('twenty-three', 23), ('f', 29), ('5', 36)]\n",
      ">> len :  9\n",
      "[('four', 4), ('seven', 7), ('twelve', 12), ('sixteen', 16), ('g', 30), ('j1', 32), ('6', 37), ('world', 39), ('to', 41)]\n",
      ">> len :  5\n",
      "[('six', 6), ('a', 24), ('h', 31), ('meet', 42), ('you!!', 43)]\n",
      "===========\n",
      "\n",
      ">> len :  10\n",
      "[('one', 1), ('two', 2), ('seven', 7), ('eleven', 11), ('eighteen', 18), ('c', 26), ('f', 29), ('j1', 32), ('3', 34), ('6', 37)]\n",
      ">> len :  5\n",
      "[('zero', 0), ('four', 4), ('sixteen', 16), ('seventeen', 17), ('nice', 40)]\n",
      ">> len :  10\n",
      "[('eight', 8), ('ten', 10), ('twelve', 12), ('twenty', 20), ('b', 25), ('e', 28), ('h', 31), ('2', 33), ('5', 36), ('hello', 38)]\n",
      ">> len :  5\n",
      "[('three', 3), ('thirteen', 13), ('twenty-one', 21), ('twenty-two', 22), ('world', 39)]\n",
      ">> len :  1\n",
      "[(' fifteen', 15)]\n",
      ">> len :  6\n",
      "[('six', 6), ('a', 24), ('d', 27), ('g', 30), ('4', 35), ('to', 41)]\n",
      ">> len :  6\n",
      "[('five', 5), ('nine', 9), ('fourteen', 14), ('twenty-three', 23), ('meet', 42), ('you!!', 43)]\n",
      ">> len :  1\n",
      "[('nineteen', 19)]\n"
     ]
    }
   ],
   "source": [
    "testcase = word_list\n",
    "\n",
    "h1 = Hash(Hash.UNI, len(testcase))\n",
    "for idx in range(len(testcase)):\n",
    "    h1.insert(testcase[idx], idx)\n",
    "\n",
    "histogram = h1.histogram()\n",
    "for itr in histogram:\n",
    "    print(\">> len : \",len(itr))\n",
    "    print(itr)\n",
    "\n",
    "print('===========\\n')\n",
    "h2 = Hash(Hash.DIV)\n",
    "for idx in range(len(testcase)):\n",
    "    h2.insert(testcase[idx], idx)\n",
    "\n",
    "histogram = h2.histogram()\n",
    "for itr in histogram:\n",
    "    print(\">> len : \",len(itr))\n",
    "    print(itr)\n",
    "\n",
    "print('===========\\n')\n",
    "h3 = Hash(Hash.MUL)\n",
    "for idx in range(len(testcase)):\n",
    "    h3.insert(testcase[idx], idx)\n",
    "\n",
    "histogram = h3.histogram()\n",
    "for itr in histogram:\n",
    "    print(\">> len : \",len(itr))\n",
    "    print(itr)"
   ]
  },
  {
   "cell_type": "code",
   "execution_count": 67,
   "metadata": {},
   "outputs": [
    {
     "data": {
      "text/plain": [
       "11"
      ]
     },
     "execution_count": 67,
     "metadata": {},
     "output_type": "execute_result"
    }
   ],
   "source": [
    "h1.find_w_key(\"eleven\")"
   ]
  },
  {
   "cell_type": "code",
   "execution_count": 68,
   "metadata": {},
   "outputs": [
    {
     "data": {
      "text/plain": [
       "257"
      ]
     },
     "execution_count": 68,
     "metadata": {},
     "output_type": "execute_result"
    }
   ],
   "source": [
    "get_prime_greater_than(256)"
   ]
  },
  {
   "cell_type": "code",
   "execution_count": 69,
   "metadata": {},
   "outputs": [
    {
     "ename": "Exception",
     "evalue": "",
     "output_type": "error",
     "traceback": [
      "\u001b[1;31m---------------------------------------------------------------------------\u001b[0m",
      "\u001b[1;31mException\u001b[0m                                 Traceback (most recent call last)",
      "\u001b[1;32m<ipython-input-69-669e46d19d2b>\u001b[0m in \u001b[0;36m<module>\u001b[1;34m()\u001b[0m\n\u001b[1;32m----> 1\u001b[1;33m \u001b[0mlog2\u001b[0m\u001b[1;33m(\u001b[0m\u001b[1;33m-\u001b[0m\u001b[1;36m3\u001b[0m\u001b[1;33m)\u001b[0m\u001b[1;33m\u001b[0m\u001b[0m\n\u001b[0m",
      "\u001b[1;32m<ipython-input-64-c233b3d3d2cf>\u001b[0m in \u001b[0;36mlog2\u001b[1;34m(n)\u001b[0m\n\u001b[0;32m     20\u001b[0m \u001b[1;32mdef\u001b[0m \u001b[0mlog2\u001b[0m\u001b[1;33m(\u001b[0m\u001b[0mn\u001b[0m\u001b[1;33m)\u001b[0m\u001b[1;33m:\u001b[0m\u001b[1;33m\u001b[0m\u001b[0m\n\u001b[0;32m     21\u001b[0m     \u001b[1;32mif\u001b[0m \u001b[0mn\u001b[0m\u001b[1;33m<=\u001b[0m\u001b[1;36m0\u001b[0m\u001b[1;33m:\u001b[0m\u001b[1;33m\u001b[0m\u001b[0m\n\u001b[1;32m---> 22\u001b[1;33m         \u001b[1;32mraise\u001b[0m \u001b[0mException\u001b[0m\u001b[1;33m\u001b[0m\u001b[0m\n\u001b[0m\u001b[0;32m     23\u001b[0m     \u001b[0mcount\u001b[0m \u001b[1;33m=\u001b[0m \u001b[1;36m0\u001b[0m\u001b[1;33m\u001b[0m\u001b[0m\n\u001b[0;32m     24\u001b[0m     \u001b[1;32mwhile\u001b[0m \u001b[0mn\u001b[0m \u001b[1;33m>\u001b[0m \u001b[1;36m1\u001b[0m\u001b[1;33m:\u001b[0m\u001b[1;33m\u001b[0m\u001b[0m\n",
      "\u001b[1;31mException\u001b[0m: "
     ]
    }
   ],
   "source": [
    "log2(-3)"
   ]
  },
  {
   "cell_type": "code",
   "execution_count": null,
   "metadata": {
    "collapsed": true
   },
   "outputs": [],
   "source": []
  },
  {
   "cell_type": "code",
   "execution_count": null,
   "metadata": {
    "collapsed": true
   },
   "outputs": [],
   "source": []
  }
 ],
 "metadata": {
  "kernelspec": {
   "display_name": "Python 3",
   "language": "python",
   "name": "python3"
  },
  "language_info": {
   "codemirror_mode": {
    "name": "ipython",
    "version": 3
   },
   "file_extension": ".py",
   "mimetype": "text/x-python",
   "name": "python",
   "nbconvert_exporter": "python",
   "pygments_lexer": "ipython3",
   "version": "3.6.3"
  }
 },
 "nbformat": 4,
 "nbformat_minor": 2
}
