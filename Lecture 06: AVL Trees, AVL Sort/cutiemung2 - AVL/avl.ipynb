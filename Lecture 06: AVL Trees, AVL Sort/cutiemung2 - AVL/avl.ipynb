{
 "cells": [
  {
   "cell_type": "code",
   "execution_count": 83,
   "metadata": {},
   "outputs": [
    {
     "name": "stdout",
     "output_type": "stream",
     "text": [
      "예약 전 tree:\n",
      "  20   \n",
      " /  \\  \n",
      "12  27 \n",
      "/\\  /\\ \n",
      " 16  32\n",
      " /\\  /\\ \n",
      "\n",
      "예약 성공 여부 : \n",
      "True \n",
      "\n",
      "예약 시도 후 tree:\n",
      "  .20    \n",
      " /   \\   \n",
      "12    27 \n",
      "/\\   / \\ \n",
      " 16 23 32\n",
      " /\\ /\\ /\\\n"
     ]
    }
   ],
   "source": [
    "%run bst.ipynb"
   ]
  },
  {
   "cell_type": "code",
   "execution_count": 89,
   "metadata": {},
   "outputs": [],
   "source": [
    "def get_height(node):\n",
    "    if node is None:\n",
    "        return -1\n",
    "    else:\n",
    "        return node.height\n",
    "    \n",
    "def update_height(node):\n",
    "    node.height = max(get_height(node.left), get_height(node.right))+1\n",
    "    \n",
    "def is_unbalanced(node):\n",
    "    h_left = get_height(node.left)\n",
    "    h_right = get_height(node.right)\n",
    "    \n",
    "    if h_left >= 2+h_right:\n",
    "        if get_height(node.left.left) >= get_height(node.left.right):\n",
    "            return AVL.L_L\n",
    "        else:\n",
    "            return AVL.L_R\n",
    "    elif h_right >= 2+h_right:\n",
    "        if get_height(node.right.right) >= get_height(node.right.left):\n",
    "            return AVL.R_R\n",
    "        else:\n",
    "            return AVL.R_L\n",
    "    else:\n",
    "        return None\n",
    "\n",
    "class AVL(BST):\n",
    "    R_R = 1\n",
    "    R_L = 2\n",
    "    L_L = 3\n",
    "    L_R = 4\n",
    "    \n",
    "    #precondition : x를 제외한 모든 노드는 AVL조건을 만족\n",
    "    def rotate_left(self, x):\n",
    "        y = x.right\n",
    "        x.right = y.left\n",
    "        if x.right is not None:\n",
    "            x.right.parent = x\n",
    "        y.left = x\n",
    "        y.parent = x.parent\n",
    "        x.parent = y\n",
    "        if y.parent is None:\n",
    "            self.root = y\n",
    "        else:\n",
    "            if y.parent.left is x:\n",
    "                y.parent.left = y\n",
    "            else:\n",
    "                y.parent.right = y\n",
    "        update_height(x)\n",
    "        update_height(y)\n",
    "        \n",
    "    def rotate_right(self, x):\n",
    "        y = x.left\n",
    "        x.left = y.right\n",
    "        if x.left is not None:\n",
    "            x.left.parent = x\n",
    "        y.right = x\n",
    "        y.parent = x.parent\n",
    "        x.parent = y\n",
    "        if y.parent is None:\n",
    "            self.root = y\n",
    "        else:\n",
    "            if y.parent.left is x:\n",
    "                y.parent.left = y\n",
    "            else:\n",
    "                y.parent.right = y\n",
    "        update_height(x)\n",
    "        update_height(y)\n",
    "        \n",
    "    def insert(self, key):\n",
    "        new_node = BST.insert(self,key)\n",
    "        self.fix(new_node)\n",
    "        \n",
    "    def fix(self, node):\n",
    "        while node is not None:\n",
    "            update_height(node)\n",
    "            balance = is_unbalanced(node)\n",
    "            if balance is AVL.L_L:\n",
    "                self.rotate_right(node)\n",
    "            elif balance is AVL.L_R:\n",
    "                self.rotate_left(node.left)\n",
    "                self.rotate_right(node)\n",
    "            elif balance is AVL.R_R:\n",
    "                self.rotate_left(node)\n",
    "            elif balance is AVL.R_L:\n",
    "                self.rotate_right(node.right)\n",
    "                self.rotate_left(node)\n",
    "            node = node.parent"
   ]
  },
  {
   "cell_type": "code",
   "execution_count": 95,
   "metadata": {},
   "outputs": [
    {
     "name": "stdout",
     "output_type": "stream",
     "text": [
      "     ..12..    \n",
      "    /      \\   \n",
      "   4.       16 \n",
      "  /  \\     / \\ \n",
      " 2    8   14 18\n",
      " /\\  / \\  /\\ /\\\n",
      "0   6  10      \n",
      "/\\  /\\ /\\      \n",
      "\n",
      "insert(11)\n",
      "\n",
      "    ..8..       \n",
      "   /     \\      \n",
      "   4     .12    \n",
      "  / \\   /   \\   \n",
      " 2  6  10    16 \n",
      " /\\ /\\ /\\   / \\ \n",
      "0       11 14 18\n",
      "/\\      /\\ /\\ /\\\n"
     ]
    }
   ],
   "source": [
    "def main():\n",
    "    tree = AVL()\n",
    "    [tree.insert(i) for i in reversed(range(0,20,2))];\n",
    "    \n",
    "    print(tree)\n",
    "    \n",
    "    print('\\ninsert(11)\\n')\n",
    "    tree.insert(11)\n",
    "    print(tree)\n",
    "\n",
    "if __name__ == \"__main__\":\n",
    "    main()"
   ]
  },
  {
   "cell_type": "code",
   "execution_count": 97,
   "metadata": {},
   "outputs": [
    {
     "data": {
      "text/plain": [
       "['hi']"
      ]
     },
     "execution_count": 97,
     "metadata": {},
     "output_type": "execute_result"
    }
   ],
   "source": [
    "['hi']"
   ]
  },
  {
   "cell_type": "code",
   "execution_count": null,
   "metadata": {
    "collapsed": true
   },
   "outputs": [],
   "source": []
  }
 ],
 "metadata": {
  "kernelspec": {
   "display_name": "Python 3",
   "language": "python",
   "name": "python3"
  },
  "language_info": {
   "codemirror_mode": {
    "name": "ipython",
    "version": 3
   },
   "file_extension": ".py",
   "mimetype": "text/x-python",
   "name": "python",
   "nbconvert_exporter": "python",
   "pygments_lexer": "ipython3",
   "version": "3.6.3"
  }
 },
 "nbformat": 4,
 "nbformat_minor": 2
}
