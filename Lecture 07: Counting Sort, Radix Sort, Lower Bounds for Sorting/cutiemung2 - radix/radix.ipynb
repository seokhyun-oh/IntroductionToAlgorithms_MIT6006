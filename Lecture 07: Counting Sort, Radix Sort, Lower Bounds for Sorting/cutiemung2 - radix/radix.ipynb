{
 "cells": [
  {
   "cell_type": "code",
   "execution_count": 28,
   "metadata": {
    "collapsed": true
   },
   "outputs": [],
   "source": [
    "import math\n",
    "\n",
    "# 단순히 배열의 요소를 기준으로 정렬\n",
    "def bad_counting_sort(li):\n",
    "    maximum = max(li)\n",
    "    sorter = [[] for _ in range(maximum+1)]\n",
    "    for i in range(len(li)):\n",
    "        sorter[li[i]].append(li[i])\n",
    "    li = [numbers for row in sorter for numbers in row]\n",
    "    return li\n",
    "\n",
    "def radix_sort(li):\n",
    "    base = len(li)\n",
    "    maximum = max(li)\n",
    "    max_iter = int(math.ceil(math.log(maximum,base)))\n",
    "    \n",
    "    i=0\n",
    "    for _ in range(max_iter):\n",
    "        digits = [(element//(base**i))%base for element in li]\n",
    "        # counting sort\n",
    "        sorter = [[] for _ in range(base)]\n",
    "        for idx in range(len(digits)):\n",
    "            sorter[digits[idx]].append(li[idx])\n",
    "        li = [numbers for row in sorter for numbers in row]\n",
    "        i+=1\n",
    "    return li"
   ]
  },
  {
   "cell_type": "code",
   "execution_count": 29,
   "metadata": {},
   "outputs": [
    {
     "name": "stdout",
     "output_type": "stream",
     "text": [
      "counting sort : \n",
      " [113, 776, 1390, 1680, 1864, 1997, 2775, 2985, 4985, 5073, 5388, 6287, 6609, 7168, 7412, 7634, 7714, 8221, 8534, 9544, 10020, 10104, 10409, 11297, 11623, 11726, 12024, 12748, 14285, 14639, 15071, 15212, 15920, 15957, 16070, 17546, 18022, 18648, 19247, 19367, 19705, 19896, 20631, 20697, 21388, 21649, 21903, 22072, 23100, 23264, 23797, 23927, 24128, 24830, 24839, 25572, 25673, 25676, 26201, 26783, 27515, 27811, 28046, 30114, 30209, 30617, 30664, 30925, 31262, 31681, 31686, 32650, 33272, 34102, 34668, 36160, 37397, 38133, 38235, 39441, 39807, 41206, 41949, 42120, 42336, 43254, 44076, 44911, 45035, 45133, 45489, 46203, 47298, 47393, 47638, 47793, 49501, 49613, 49888, 49897]\n",
      "--------------------------------------------\n",
      "\n",
      "radix sort :\n",
      " [113, 776, 1390, 1680, 1864, 1997, 2775, 2985, 4985, 5073, 5388, 6287, 6609, 7168, 7412, 7634, 7714, 8221, 8534, 9544, 10020, 10104, 10409, 11297, 11623, 11726, 12024, 12748, 14285, 14639, 15071, 15212, 15920, 15957, 16070, 17546, 18022, 18648, 19247, 19367, 19705, 19896, 20631, 20697, 21388, 21649, 21903, 22072, 23100, 23264, 23797, 23927, 24128, 24830, 24839, 25572, 25673, 25676, 26201, 26783, 27515, 27811, 28046, 30114, 30209, 30617, 30664, 30925, 31262, 31681, 31686, 32650, 33272, 34102, 34668, 36160, 37397, 38133, 38235, 39441, 39807, 41206, 41949, 42120, 42336, 43254, 44076, 44911, 45035, 45133, 45489, 46203, 47298, 47393, 47638, 47793, 49501, 49613, 49888, 49897]\n"
     ]
    }
   ],
   "source": [
    "import random\n",
    "li = [random.randint(1,50000) for _ in range(100)]\n",
    "print(\"counting sort : \\n\",bad_counting_sort(li))\n",
    "print(\"--------------------------------------------\\n\")\n",
    "print(\"radix sort :\\n\",radix_sort(li))"
   ]
  },
  {
   "cell_type": "code",
   "execution_count": null,
   "metadata": {
    "collapsed": true
   },
   "outputs": [],
   "source": []
  }
 ],
 "metadata": {
  "kernelspec": {
   "display_name": "Python 3",
   "language": "python",
   "name": "python3"
  },
  "language_info": {
   "codemirror_mode": {
    "name": "ipython",
    "version": 3
   },
   "file_extension": ".py",
   "mimetype": "text/x-python",
   "name": "python",
   "nbconvert_exporter": "python",
   "pygments_lexer": "ipython3",
   "version": "3.6.3"
  }
 },
 "nbformat": 4,
 "nbformat_minor": 2
}
