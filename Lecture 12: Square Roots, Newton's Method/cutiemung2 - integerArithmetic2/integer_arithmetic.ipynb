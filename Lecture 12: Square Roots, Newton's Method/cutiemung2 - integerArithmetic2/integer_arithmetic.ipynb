{
 "cells": [
  {
   "cell_type": "code",
   "execution_count": 2,
   "metadata": {
    "collapsed": true
   },
   "outputs": [],
   "source": [
    "import random\n",
    "import math\n",
    "\n",
    "def multiply_by_10s(a,decimal, t=int):\n",
    "    s = str(a)\n",
    "    s = s+'0'*decimal\n",
    "    if t is int:\n",
    "        return int(s)\n",
    "    else:\n",
    "        return s\n",
    "\n",
    "def mul(x,y): \n",
    "    base=10\n",
    "    log = math.log10\n",
    "    \n",
    "    if x<=base or y<=base:\n",
    "        return x*y\n",
    "    \n",
    "    x_digit      = math.ceil(log(x))\n",
    "    x_half_digit = math.ceil(x_digit/2)\n",
    "    y_digit      = math.ceil(log(y))\n",
    "    y_half_digit = math.ceil(y_digit/2)\n",
    "    n = max(x_digit,y_digit)\n",
    "    n_half = math.ceil(n/2)\n",
    "    \n",
    "    lowx  = x%pow(10,n_half)\n",
    "    highx = x//pow(10,n_half)\n",
    "    lowy  = y%pow(10,n_half)\n",
    "    highy = y//pow(10,n_half)\n",
    "    \n",
    "    z0 = mul(lowx,lowy)\n",
    "    z2 = mul(highx, highy)\n",
    "    z1 = mul(lowx+highx, lowy+highy)-z0-z2\n",
    "    z  = multiply_by_10s(z2,2*n_half) + multiply_by_10s(z1,n_half) + (z0)\n",
    "    return z\n"
   ]
  },
  {
   "cell_type": "code",
   "execution_count": 3,
   "metadata": {},
   "outputs": [
    {
     "name": "stdout",
     "output_type": "stream",
     "text": [
      "966134835477808596513828012070077961965799367757205\n",
      "966134835477808596513828012070077961965799367757205\n"
     ]
    }
   ],
   "source": [
    "n = (983749038752348759014789,982094820344750138594395345)\n",
    "print(mul(n[0],n[1]))\n",
    "print(n[0]*n[1])"
   ]
  },
  {
   "cell_type": "code",
   "execution_count": 4,
   "metadata": {},
   "outputs": [
    {
     "name": "stdout",
     "output_type": "stream",
     "text": [
      "1.414213562373095\n",
      "1.4142135623730951\n"
     ]
    }
   ],
   "source": [
    "def sqrt_update(x,a):\n",
    "    return (x+a/x)/2\n",
    "\n",
    "def sqrt(a):\n",
    "    x = 1\n",
    "    eps = 1e-10\n",
    "    hist = []\n",
    "    for _ in range(1000):\n",
    "        hist.append(x)\n",
    "        xbefore = x\n",
    "        x = sqrt_update(x,a)\n",
    "        if abs(x-xbefore) < eps:\n",
    "            return x,hist\n",
    "    return x,hist\n",
    "\n",
    "result,_ = sqrt(2)\n",
    "print(result)\n",
    "print(math.sqrt(2))"
   ]
  },
  {
   "cell_type": "code",
   "execution_count": 34,
   "metadata": {
    "collapsed": true
   },
   "outputs": [],
   "source": [
    "# b는 10의 제곱수\n",
    "def divided_by_10s(a,decimal,t=float):\n",
    "    s = str(a)\n",
    "    length = len(s)\n",
    "    branch = length-decimal\n",
    "    if branch <= 0:\n",
    "        s1 = '0'\n",
    "        s2 = '0'*abs(branch)+s\n",
    "    else:\n",
    "        s1 = s[:length-decimal]\n",
    "        s2 = s[length-decimal:length]\n",
    "        \n",
    "    if t is float:\n",
    "        return float(s1+'.'+s2)\n",
    "    elif t is int:\n",
    "        return int(s1)\n",
    "    else:\n",
    "        return s1+'.'+s2\n",
    "\n",
    "def div_update(x,b,R):  \n",
    "    ans = (x*2)-divided_by_10s(b*mul(x,x), R,int)\n",
    "    return ans\n",
    "\n",
    "def hi(b, decimal, init_value):\n",
    "    x=init_value\n",
    "    \n",
    "    eps = 1e-6\n",
    "    hist = []\n",
    "    for _ in range(10):\n",
    "        hist.append(x)\n",
    "        x = div_update(math.floor(x),b,decimal)\n",
    "    return x,hist\n",
    "\n",
    "def frac(a,b, decimal):\n",
    "    #decimal = 50\n",
    "    R = int(math.pow(10,decimal))\n",
    "    init_value = math.pow(10,decimal-int(math.log10(b)+1))\n",
    "\n",
    "    (R_over_b,hist) = hi(b,decimal,init_value)\n",
    "\n",
    "    ans = mul(math.floor(R_over_b), a)\n",
    "    return divide_by_10s(ans,decimal,None)"
   ]
  },
  {
   "cell_type": "code",
   "execution_count": 35,
   "metadata": {},
   "outputs": [
    {
     "name": "stdout",
     "output_type": "stream",
     "text": [
      "1/1234 =  0.000810372771474878444084278768233387358184764991896272285251193812808398951295073875924968805274873332123142354006323809927989927366009630624433971117208701784283612560709606672583988242018205441177367701096089474756835897893071078399278652628603632128666444548228871094353150291691006844384289673707\n"
     ]
    }
   ],
   "source": [
    "print('1/1234 = ',frac(1,1234,300))"
   ]
  },
  {
   "cell_type": "code",
   "execution_count": null,
   "metadata": {
    "collapsed": true
   },
   "outputs": [],
   "source": []
  },
  {
   "cell_type": "code",
   "execution_count": null,
   "metadata": {
    "collapsed": true
   },
   "outputs": [],
   "source": []
  }
 ],
 "metadata": {
  "kernelspec": {
   "display_name": "Python 3",
   "language": "python",
   "name": "python3"
  }
 },
 "nbformat": 4,
 "nbformat_minor": 2
}
