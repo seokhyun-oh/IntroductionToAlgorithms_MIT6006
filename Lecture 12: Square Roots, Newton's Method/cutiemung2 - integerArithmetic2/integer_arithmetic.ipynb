{
 "cells": [
  {
   "cell_type": "code",
   "execution_count": 1,
   "metadata": {
    "collapsed": true
   },
   "outputs": [],
   "source": [
    "# 나 눗 셈 이 해 안 감 #\n",
    "\n",
    "import random\n",
    "import math\n",
    "\n",
    "def mul(x,y): \n",
    "    base=2\n",
    "    log = math.log2\n",
    "    \n",
    "    if x<=base or y<=base:\n",
    "        return x*y\n",
    "    \n",
    "    x_digit      = math.ceil(log(x))\n",
    "    x_half_digit = math.ceil(x_digit/2)\n",
    "    y_digit      = math.ceil(log(y))\n",
    "    y_half_digit = math.ceil(y_digit/2)\n",
    "    n = max(x_digit,y_digit)\n",
    "    n_half = math.ceil(n/2)\n",
    "    \n",
    "    lowx  = x%(1<<n_half)\n",
    "    highx = x//(1<<n_half)\n",
    "    lowy  = y%(1<<n_half)\n",
    "    highy = y//(1<<n_half)\n",
    "    \n",
    "    z0 = mul(lowx,lowy)\n",
    "    z2 = mul(highx, highy)\n",
    "    z1 = mul(lowx+highx, lowy+highy)-z0-z2\n",
    "    z  = (z2<<(2*n_half)) + (z1<<n_half) + (z0)\n",
    "    return z\n"
   ]
  },
  {
   "cell_type": "code",
   "execution_count": 2,
   "metadata": {},
   "outputs": [
    {
     "name": "stdout",
     "output_type": "stream",
     "text": [
      "400769891388383\n",
      "400769891388383\n"
     ]
    }
   ],
   "source": [
    "print(mul(1234567,324623849))\n",
    "print(1234567*324623849)"
   ]
  },
  {
   "cell_type": "code",
   "execution_count": 3,
   "metadata": {},
   "outputs": [
    {
     "name": "stdout",
     "output_type": "stream",
     "text": [
      "1.414213562373095\n",
      "1.4142135623730951\n"
     ]
    }
   ],
   "source": [
    "def sqrt_update(x,a):\n",
    "    return (x+a/x)/2\n",
    "\n",
    "def sqrt(a):\n",
    "    x = 1\n",
    "    eps = 1e-10\n",
    "    hist = []\n",
    "    for _ in range(1000):\n",
    "        hist.append(x)\n",
    "        xbefore = x\n",
    "        x = sqrt_update(x,a)\n",
    "        if abs(x-xbefore) < eps:\n",
    "            return x,hist\n",
    "    return x,hist\n",
    "\n",
    "result,_ = sqrt(2)\n",
    "print(result)\n",
    "print(math.sqrt(2))"
   ]
  },
  {
   "cell_type": "code",
   "execution_count": 4,
   "metadata": {},
   "outputs": [
    {
     "name": "stdout",
     "output_type": "stream",
     "text": [
      "3.571428571428581\n",
      "3.5714285714285716\n"
     ]
    }
   ],
   "source": [
    "\n",
    "def div_update(x,b,R):\n",
    "\n",
    "    ans = (x<<1)-((b*mul(x,x))>>int(math.log2(R)))\n",
    "    return ans\n",
    "\n",
    "def hi(b, R, init_value):\n",
    "    x=init_value\n",
    "    \n",
    "    eps = 1e-6\n",
    "    hist = []\n",
    "    for _ in range(10):\n",
    "        hist.append(x)\n",
    "        x = div_update(math.floor(x),b,R)\n",
    "    return x,hist\n",
    "\n",
    "def frac(a,b):\n",
    "    R = int(math.pow(2,50))\n",
    "    (R_over_b,_) = hi(b,R,R>>2)\n",
    "    ans = mul(R_over_b, a)\n",
    "    return ans/R\n",
    "\n",
    "print(frac(25,7))\n",
    "print(3.5714285714285714285714285714286)"
   ]
  },
  {
   "cell_type": "code",
   "execution_count": null,
   "metadata": {
    "collapsed": true
   },
   "outputs": [],
   "source": []
  }
 ],
 "metadata": {
  "kernelspec": {
   "display_name": "Python 3",
   "language": "python",
   "name": "python3"
  },
  "language_info": {
   "codemirror_mode": {
    "name": "ipython",
    "version": 3
   },
   "file_extension": ".py",
   "mimetype": "text/x-python",
   "name": "python",
   "nbconvert_exporter": "python",
   "pygments_lexer": "ipython3",
   "version": "3.6.3"
  }
 },
 "nbformat": 4,
 "nbformat_minor": 2
}
